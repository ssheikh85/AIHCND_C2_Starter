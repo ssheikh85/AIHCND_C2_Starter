{
 "cells": [
  {
   "cell_type": "code",
   "execution_count": 1,
   "metadata": {},
   "outputs": [
    {
     "name": "stderr",
     "output_type": "stream",
     "text": [
      "Using TensorFlow backend.\n"
     ]
    }
   ],
   "source": [
    "import numpy as np\n",
    "import pandas as pd\n",
    "import pydicom\n",
    "%matplotlib inline\n",
    "import matplotlib.pyplot as plt\n",
    "import keras \n",
    "import os\n",
    "from keras.models import model_from_json\n",
    "from skimage.transform import resize\n",
    "from keras.optimizers import Adam\n"
   ]
  },
  {
   "cell_type": "code",
   "execution_count": 2,
   "metadata": {},
   "outputs": [],
   "source": [
    "# This function reads in a .dcm file, checks the important fields for our device, and returns a numpy array\n",
    "# of just the imaging data\n",
    "def check_dicom(filename): \n",
    "    # todo\n",
    "    print('Load file {} ...'.format(filename))\n",
    "    ds = pydicom.dcmread(filename) \n",
    "    if ds.Modality == 'DX' and (int(ds.PatientAge) > 1 and int(ds.PatientAge) < 95) and ds.BodyPartExamined == 'CHEST' and (ds.PatientPosition == 'PA' or ds.PatientPosition == 'AP'):\n",
    "        return ds.pixel_array\n",
    "    else:\n",
    "        print('This study cannot be used with algorithm')\n",
    "        return None\n",
    "    \n",
    "# This function takes the numpy array output by check_dicom and \n",
    "# runs the appropriate pre-processing needed for our model input\n",
    "def preprocess_image(img,img_mean,img_std,img_size): \n",
    "    # todo\n",
    "    proc_img = resize(img, img_size)\n",
    "    proc_Img = (proc_img - img_mean)/img_std\n",
    "    \n",
    "    return proc_img\n",
    "\n",
    "# This function loads in our trained model w/ weights and compiles it \n",
    "def load_model(model_path, weight_path):\n",
    "    # todo\n",
    "    loaded_json = open(model_path, \"r\")\n",
    "    loaded_model = loaded_json.read()\n",
    "    loaded_json.close()\n",
    "    model = model_from_json(loaded_model)\n",
    "    model.load_weights(weight_path)\n",
    "    \n",
    "    optimizer = Adam(lr=0.001)\n",
    "    loss = 'binary_crossentropy'\n",
    "    metrics = ['binary_accuracy']\n",
    "    \n",
    "    model.compile(optimizer=optimizer, loss=loss, metrics=metrics)\n",
    "    \n",
    "    return model\n",
    "\n",
    "# This function uses our device's threshold parameters to predict whether or not\n",
    "# the image shows the presence of pneumonia using our trained model\n",
    "def predict_image(model, img, thresh): \n",
    "    # todo \n",
    "    \n",
    "    pred = model.predict(img)\n",
    "    \n",
    "    for i in range(len(pred)):\n",
    "        if pred[i] > thresh:\n",
    "            return  \"Pneumonia\"\n",
    "        else:\n",
    "            return  \"No Pneumonia\""
   ]
  },
  {
   "cell_type": "code",
   "execution_count": 3,
   "metadata": {},
   "outputs": [
    {
     "name": "stdout",
     "output_type": "stream",
     "text": [
      "Load file test1.dcm ...\n",
      "No Pneumonia\n",
      "Load file test2.dcm ...\n",
      "No Pneumonia\n",
      "Load file test3.dcm ...\n",
      "No Pneumonia\n",
      "Load file test4.dcm ...\n",
      "This study cannot be used with algorithm\n",
      "Load file test5.dcm ...\n",
      "This study cannot be used with algorithm\n",
      "Load file test6.dcm ...\n",
      "This study cannot be used with algorithm\n"
     ]
    }
   ],
   "source": [
    "test_dicoms = ['test1.dcm','test2.dcm','test3.dcm','test4.dcm','test5.dcm','test6.dcm']\n",
    "\n",
    "model_path = \"/home/workspace/my_model_ssheikhAIHCND.json\" #path to saved model\n",
    "weight_path = \"/home/workspace/xray_class_my_model.best.hdf5\" #path to saved best weights\n",
    "\n",
    "IMG_SIZE=(1,224,224,3) # This might be different if you did not use vgg16\n",
    "\n",
    "my_model = load_model(model_path, weight_path) #loads model\n",
    "thresh = 0.58 #loads the threshold they chose for model classification \n",
    "\n",
    "# use the .dcm files to test your prediction\n",
    "for i in test_dicoms:\n",
    "    \n",
    "    img = np.array([])\n",
    "    img = check_dicom(i)\n",
    "    \n",
    "    if img is None:\n",
    "        continue\n",
    "    \n",
    "    img_mean = np.mean(img) \n",
    "    img_std = np.std(img)\n",
    "    img_proc = preprocess_image(img,img_mean,img_std,IMG_SIZE)\n",
    "    pred = predict_image(my_model,img_proc,thresh)\n",
    "    print(pred)"
   ]
  },
  {
   "cell_type": "code",
   "execution_count": null,
   "metadata": {},
   "outputs": [],
   "source": []
  }
 ],
 "metadata": {
  "kernelspec": {
   "display_name": "Python 3",
   "language": "python",
   "name": "python3"
  },
  "language_info": {
   "codemirror_mode": {
    "name": "ipython",
    "version": 3
   },
   "file_extension": ".py",
   "mimetype": "text/x-python",
   "name": "python",
   "nbconvert_exporter": "python",
   "pygments_lexer": "ipython3",
   "version": "3.7.6"
  }
 },
 "nbformat": 4,
 "nbformat_minor": 2
}
